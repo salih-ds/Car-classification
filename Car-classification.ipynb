{
 "cells": [
  {
   "cell_type": "markdown",
   "metadata": {
    "id": "YQhbvgKfIC7M"
   },
   "source": [
    "## Импорты"
   ]
  },
  {
   "cell_type": "code",
   "execution_count": null,
   "metadata": {
    "id": "b7thCVHeHhYk"
   },
   "outputs": [],
   "source": [
    "import sys\n",
    "import numpy as np, pandas as pd\n",
    "import random\n",
    "\n",
    "import tensorflow as tf\n",
    "from tensorflow.keras.preprocessing.image import ImageDataGenerator\n",
    "from tensorflow import keras\n",
    "\n",
    "# модуль для использования предобученных моделей\n",
    "from tensorflow.keras.applications import *\n",
    "\n",
    "# для добавления слоев в нейросеть\n",
    "from tensorflow.keras.layers import *\n",
    "from keras.models import Sequential\n",
    "\n",
    "# для вычисления ошибки модели\n",
    "from tensorflow.keras.losses import *\n",
    "\n",
    "# для использования оптимизаторов обучения модели\n",
    "from tensorflow.keras.optimizers import *\n",
    "from tensorflow.keras.optimizers.schedules import *\n",
    "\n",
    "# остановка обучения\n",
    "from tensorflow.keras.callbacks import ModelCheckpoint, EarlyStopping"
   ]
  },
  {
   "cell_type": "code",
   "execution_count": null,
   "metadata": {},
   "outputs": [],
   "source": [
    "path_rep = !pwd\n",
    "path_rep = path_rep[0]"
   ]
  },
  {
   "cell_type": "code",
   "execution_count": null,
   "metadata": {},
   "outputs": [],
   "source": [
    "# установим путь к модулям\n",
    "sys.path.append(f'{path_rep}/modules')\n",
    "\n",
    "# предварительный анализ данных\n",
    "from DataInfo import DataInfo\n",
    "\n",
    "# генераторы данных\n",
    "from DataGenerator import DataGenerator\n",
    "# просмотр сгенерированных изображений\n",
    "from DataGenerator import view_generation_images\n",
    "\n",
    "# объединить новые данные с основными в новом репозитории, вернуть путь к репозиторию\n",
    "from AddData import add_data"
   ]
  },
  {
   "cell_type": "markdown",
   "metadata": {
    "id": "hos0R3UZIIXj"
   },
   "source": [
    "## Данные"
   ]
  },
  {
   "cell_type": "code",
   "execution_count": null,
   "metadata": {
    "colab": {
     "base_uri": "https://localhost:8080/"
    },
    "id": "IPIceuACH9tE",
    "outputId": "6e176397-6461-4cd6-c581-b8cacfe3a900"
   },
   "outputs": [],
   "source": [
    "# для Google Colab:\n",
    "# !gsutil cp gs://oleg-zyablov/skillfactory/sf-dl-car-classification.zip .\n",
    "# !unzip sf-dl-car-classification.zip\n",
    "# !unzip -q -o sf-dl-car-classification/train.zip\n",
    "# !unzip -q -o sf-dl-car-classification/test.zip\n",
    "# sample_submission_path = '/content/sf-dl-car-classification/sample-submission.csv'\n",
    "# train_path = '/content/train/'\n",
    "# sub_path = '/content/test_upload/'\n",
    "\n",
    "# для Kaggle Kernel\n",
    "# !mkdir /kaggle/temp #папка для временных файлов\n",
    "# !unzip /kaggle/input/train.zip -d /kaggle/temp\n",
    "# !unzip /kaggle/input/test.zip -d /kaggle/temp\n",
    "# sample_submission_path = '/kaggle/input/sample-submission.csv'\n",
    "# train_path = '/kaggle/temp/train/'\n",
    "# sub_path = '/kaggle/temp/test_upload/'\n",
    "# %cd /kaggle/working  #переходим в рабочую директорию\n",
    "\n",
    "# local\n",
    "# установить вручную путь = path_rep\n",
    "!mkdir /Users/rus/Desktop/Car-classification/data/temp #папка для временных файлов\n",
    "!unzip /Users/rus/Desktop/Car-classification/data/train.zip -d /Users/rus/Desktop/Car-classification/data/temp\n",
    "!unzip /Users/rus/Desktop/Car-classification/data/test.zip -d /Users/rus/Desktop/Car-classification/data/temp\n",
    "sample_submission_path = f'{path_rep}/data/sample-submission.csv'\n",
    "train_path = f'{path_rep}/data/temp/train/'\n",
    "sub_path = f'{path_rep}/data/temp/test_upload/'\n",
    "\n",
    "#имена классов\n",
    "class_names = [\n",
    "  'Приора', #0\n",
    "  'Ford Focus', #1\n",
    "  'Самара', #2\n",
    "  'ВАЗ-2110', #3\n",
    "  'Жигули', #4\n",
    "  'Нива', #5\n",
    "  'Калина', #6\n",
    "  'ВАЗ-2109', #7\n",
    "  'Volkswagen Passat', #8\n",
    "  'ВАЗ-21099' #9\n",
    "]"
   ]
  },
  {
   "cell_type": "code",
   "execution_count": null,
   "metadata": {},
   "outputs": [],
   "source": [
    "# посмотрим распределение по классам для тренировочных данных\n",
    "DataInfo(class_names=class_names, path=train_path).class_distribution()"
   ]
  },
  {
   "cell_type": "markdown",
   "metadata": {
    "id": "l3gCplgjIRXr"
   },
   "source": [
    "Распределение равномерное"
   ]
  },
  {
   "cell_type": "code",
   "execution_count": null,
   "metadata": {},
   "outputs": [],
   "source": [
    "# посмотрим на картинки по классам\n",
    "DataInfo(class_names=class_names, path=train_path).view_class_image()"
   ]
  },
  {
   "cell_type": "markdown",
   "metadata": {
    "id": "G89qs1A76z0T"
   },
   "source": [
    "### Узнаем средний размер изображений"
   ]
  },
  {
   "cell_type": "code",
   "execution_count": null,
   "metadata": {},
   "outputs": [],
   "source": [
    "DataInfo(class_names=class_names, path=train_path).mean_size_img()"
   ]
  },
  {
   "cell_type": "markdown",
   "metadata": {
    "id": "VbHWQVT1REOS"
   },
   "source": [
    "## Setup"
   ]
  },
  {
   "cell_type": "code",
   "execution_count": null,
   "metadata": {
    "id": "NlMwcWgCOm5W"
   },
   "outputs": [],
   "source": [
    "# В setup выносим основные настройки: так удобнее их перебирать в дальнейшем.\n",
    "\n",
    "RANDOM_SEED          = 20\n",
    "\n",
    "EPOCHS_base          = 3  # эпох на обучение\n",
    "EPOCHS_max           = 25  # эпох на обучение\n",
    "BATCH_SIZE           = 8 # уменьшаем batch если сеть большая, иначе не поместится в память на GPU\n",
    "LR                   = 1e-3\n",
    "VAL_SPLIT            = 0.15 # сколько данных выделяем на тест = 15%\n",
    "\n",
    "CLASS_NUM            = 10  # количество классов в нашей задаче\n",
    "IMG_SIZE_base        = (180, 240) # для быстрой оценки лучшей архитектуры\n",
    "IMG_SIZE_max         = (220, 305) # средний размер всех изображений \n",
    "IMG_CHANNELS         = 3   # у RGB 3 канала\n",
    "input_shape_base     = (IMG_SIZE_base, IMG_CHANNELS)\n",
    "\n",
    "BATCH_SIZE_last      = 2 # уменьшаем batch если сеть большая, иначе не поместится в память на GPU\n",
    "IMG_SIZE_last        = (440, 610) # средний размер всех изображений "
   ]
  },
  {
   "cell_type": "markdown",
   "metadata": {
    "id": "y0vclbecIXzT"
   },
   "source": [
    "## Аугментация обучающих данных"
   ]
  },
  {
   "cell_type": "code",
   "execution_count": null,
   "metadata": {},
   "outputs": [],
   "source": [
    "# сгенерируем тренировочные данные с применением аугментации\n",
    "train_generator = DataGenerator(apply_aug=True, val_split=VAL_SPLIT, path=train_path, img_size=IMG_SIZE_base,\n",
    "                  bath_size=BATCH_SIZE, random_seed=RANDOM_SEED).train_data_generator(subset='training')"
   ]
  },
  {
   "cell_type": "code",
   "execution_count": null,
   "metadata": {},
   "outputs": [],
   "source": [
    "# сгенерируем валидационные данные\n",
    "val_generator = DataGenerator(apply_aug=False, val_split=VAL_SPLIT, path=train_path, img_size=IMG_SIZE_base,\n",
    "                bath_size=BATCH_SIZE, random_seed=RANDOM_SEED).train_data_generator(subset='validation')"
   ]
  },
  {
   "cell_type": "markdown",
   "metadata": {
    "id": "8HzJCRvk-kJR"
   },
   "source": [
    "Убедимся в корректности аугментации"
   ]
  },
  {
   "cell_type": "code",
   "execution_count": null,
   "metadata": {},
   "outputs": [],
   "source": [
    "view_generation_images(train_generator)"
   ]
  },
  {
   "cell_type": "markdown",
   "metadata": {
    "id": "SWt2SHVk_P6I"
   },
   "source": [
    "## Определим наиболее точную базовую модель"
   ]
  },
  {
   "cell_type": "markdown",
   "metadata": {
    "id": "_N3SHpJ6_gxk"
   },
   "source": [
    "Критерий отбора тестирования: Необходима легковесная модель, но с высоким качеством на imagenet\n",
    "\n",
    "Рассмотрю наиболее интересные модели из https://paperswithcode.com/sota/image-classification-on-imagenet\n",
    "\n",
    "Обучим подходящие по критерию модели на 3-х эпохах с замороженными слоями, выберу лучшую по max val_accuracy"
   ]
  },
  {
   "cell_type": "markdown",
   "metadata": {},
   "source": [
    "### ResNet50"
   ]
  },
  {
   "cell_type": "code",
   "execution_count": null,
   "metadata": {
    "colab": {
     "base_uri": "https://localhost:8080/",
     "height": 468
    },
    "id": "Z1JoLhWn_y3B",
    "outputId": "8e43b61b-a81d-4284-e87e-e9a4798d9a8e"
   },
   "outputs": [],
   "source": [
    "# строим модель\n",
    "model = Sequential([\n",
    "  ResNet50(weights='imagenet', input_shape=(*IMG_SIZE_base, IMG_CHANNELS), include_top=False), #предобученная нейросеть из модуля keras.applications\n",
    "  # GlobalMaxPool2D - на выходе отдает один слой с максимальными значениями\n",
    "  GlobalAveragePooling2D(),\n",
    "  Dense(10)\n",
    "])\n",
    "\n",
    "# настройка модели для обучения\n",
    "model.compile(\n",
    "    # выбрать функцию потерь - категориальная кросс-энтропия (если класса было бы 2, то бинарная)\n",
    "    # определяет на сколько хорошо модель предсказывает Y\n",
    "    loss=CategoricalCrossentropy(from_logits=True),\n",
    "    # Оптимизатор - фунцкия для ускорения и улучшения обучения, ускорение поиска глобального минимума функции\n",
    "    optimizer=Adam(lr=LR),\n",
    "    # метрика - accuracy - как часто прогноз совпадает с меткой\n",
    "    metrics='accuracy'\n",
    ")\n",
    "\n",
    "# обучаем модель\n",
    "model.fit(train_generator, validation_data=val_generator, epochs=3)"
   ]
  },
  {
   "cell_type": "markdown",
   "metadata": {},
   "source": [
    "### EfficientNetB7"
   ]
  },
  {
   "cell_type": "code",
   "execution_count": null,
   "metadata": {
    "colab": {
     "base_uri": "https://localhost:8080/"
    },
    "id": "Ew8cOODs_y5g",
    "outputId": "2b6f7de8-ebcb-407d-9f68-1a3f64386e28"
   },
   "outputs": [],
   "source": [
    "# строим модель\n",
    "model = Sequential([\n",
    "  EfficientNetB7(weights='imagenet', input_shape=(*IMG_SIZE_base, IMG_CHANNELS), include_top=False), #предобученная нейросеть из модуля keras.applications\n",
    "  # GlobalMaxPool2D - на выходе отдает один слой с максимальными значениями\n",
    "  GlobalAveragePooling2D(),\n",
    "  Dense(10)\n",
    "])\n",
    "\n",
    "# настройка модели для обучения\n",
    "model.compile(\n",
    "    # выбрать функцию потерь - категориальная кросс-энтропия (если класса было бы 2, то бинарная)\n",
    "    # определяет на сколько хорошо модель предсказывает Y\n",
    "    loss=CategoricalCrossentropy(from_logits=True),\n",
    "    # Оптимизатор - фунцкия для ускорения и улучшения обучения, ускорение поиска глобального минимума функции\n",
    "    optimizer=Adam(lr=LR),\n",
    "    # метрика - accuracy - как часто прогноз совпадает с меткой\n",
    "    metrics='accuracy'\n",
    ")\n",
    "\n",
    "# обучаем модель\n",
    "model.fit(train_generator, validation_data=val_generator, epochs=3)"
   ]
  },
  {
   "cell_type": "markdown",
   "metadata": {},
   "source": [
    "### MobileNetV3Large"
   ]
  },
  {
   "cell_type": "code",
   "execution_count": null,
   "metadata": {
    "colab": {
     "base_uri": "https://localhost:8080/"
    },
    "id": "APS39zf__y74",
    "outputId": "60496fc0-8562-4ab6-aff9-4dff2e812703"
   },
   "outputs": [],
   "source": [
    "# строим модель\n",
    "model = Sequential([\n",
    "  MobileNetV3Large(weights='imagenet', input_shape=(*IMG_SIZE_base, IMG_CHANNELS), include_top=False), #предобученная нейросеть из модуля keras.applications\n",
    "  # GlobalMaxPool2D - на выходе отдает один слой с максимальными значениями\n",
    "  GlobalAveragePooling2D(),\n",
    "  Dense(10)\n",
    "])\n",
    "\n",
    "# настройка модели для обучения\n",
    "model.compile(\n",
    "    # выбрать функцию потерь - категориальная кросс-энтропия (если класса было бы 2, то бинарная)\n",
    "    # определяет на сколько хорошо модель предсказывает Y\n",
    "    loss=CategoricalCrossentropy(from_logits=True),\n",
    "    # Оптимизатор - фунцкия для ускорения и улучшения обучения, ускорение поиска глобального минимума функции\n",
    "    optimizer=Adam(lr=LR),\n",
    "    # метрика - accuracy - как часто прогноз совпадает с меткой\n",
    "    metrics='accuracy'\n",
    ")\n",
    "\n",
    "# обучаем модель\n",
    "model.fit(train_generator, validation_data=val_generator, epochs=3)"
   ]
  },
  {
   "cell_type": "markdown",
   "metadata": {},
   "source": [
    "### EfficientNetV2L"
   ]
  },
  {
   "cell_type": "code",
   "execution_count": null,
   "metadata": {
    "colab": {
     "base_uri": "https://localhost:8080/"
    },
    "id": "1_S7DbigBevY",
    "outputId": "ecc9af19-9197-49d6-b738-4397cd1f7087"
   },
   "outputs": [],
   "source": [
    "# строим модель\n",
    "model = Sequential([\n",
    "  EfficientNetV2L(weights='imagenet', input_shape=(*IMG_SIZE_base, IMG_CHANNELS), include_top=False), #предобученная нейросеть из модуля keras.applications\n",
    "  # GlobalMaxPool2D - на выходе отдает один слой с максимальными значениями\n",
    "  GlobalAveragePooling2D(),\n",
    "  Dense(10)\n",
    "])\n",
    "\n",
    "# настройка модели для обучения\n",
    "model.compile(\n",
    "    # выбрать функцию потерь - категориальная кросс-энтропия (если класса было бы 2, то бинарная)\n",
    "    # определяет на сколько хорошо модель предсказывает Y\n",
    "    loss=CategoricalCrossentropy(from_logits=True),\n",
    "    # Оптимизатор - фунцкия для ускорения и улучшения обучения, ускорение поиска глобального минимума функции\n",
    "    optimizer=Adam(lr=LR),\n",
    "    # метрика - accuracy - как часто прогноз совпадает с меткой\n",
    "    metrics='accuracy'\n",
    ")\n",
    "\n",
    "# обучаем модель\n",
    "model.fit(train_generator, validation_data=val_generator, epochs=3)"
   ]
  },
  {
   "cell_type": "markdown",
   "metadata": {},
   "source": [
    "### ResNet152V2"
   ]
  },
  {
   "cell_type": "code",
   "execution_count": null,
   "metadata": {
    "colab": {
     "base_uri": "https://localhost:8080/"
    },
    "id": "pRX9HjIFBhvn",
    "outputId": "1bb9a237-60d2-4e8f-f8b6-174d95fa25ef"
   },
   "outputs": [],
   "source": [
    "# строим модель\n",
    "model = Sequential([\n",
    "  ResNet152V2(weights='imagenet', input_shape=(*IMG_SIZE_base, IMG_CHANNELS), include_top=False), #предобученная нейросеть из модуля keras.applications\n",
    "  # GlobalMaxPool2D - на выходе отдает один слой с максимальными значениями\n",
    "  GlobalAveragePooling2D(),\n",
    "  Dense(10)\n",
    "])\n",
    "\n",
    "# настройка модели для обучения\n",
    "model.compile(\n",
    "    # выбрать функцию потерь - категориальная кросс-энтропия (если класса было бы 2, то бинарная)\n",
    "    # определяет на сколько хорошо модель предсказывает Y\n",
    "    loss=CategoricalCrossentropy(from_logits=True),\n",
    "    # Оптимизатор - фунцкия для ускорения и улучшения обучения, ускорение поиска глобального минимума функции\n",
    "    optimizer=Adam(lr=LR),\n",
    "    # метрика - accuracy - как часто прогноз совпадает с меткой\n",
    "    metrics='accuracy'\n",
    ")\n",
    "\n",
    "# обучаем модель\n",
    "model.fit(train_generator, validation_data=val_generator, epochs=3)"
   ]
  },
  {
   "cell_type": "markdown",
   "metadata": {
    "id": "qKkJgSeabY50"
   },
   "source": [
    "<table>\n",
    "  <tr>\n",
    "    <th>Модель</th>\n",
    "    <th>Описание</th>\n",
    "    <th>best val_accuracy</th>\n",
    "    <th>Комментарий</th>\n",
    "  </tr>\n",
    "  <tr>\n",
    "    <td>ResNet50</td>\n",
    "    <td>Легкая</td>\n",
    "    <td>0.1301</td>\n",
    "    <td>Не использовать</td>\n",
    "  </tr>\n",
    "    <tr>\n",
    "    <td>EfficientNetB7</td>\n",
    "    <td>лучший результат на ImageNet из доступных</td>\n",
    "    <td>0.9017</td>\n",
    "    <td>Лучший результат</td>\n",
    "  </tr>\n",
    "  <tr>\n",
    "    <td>MobileNetV3Large</td>\n",
    "    <td>самая легковесная, при этом высокое качетсво на ImageNet</td>\n",
    "    <td>0.6891</td>\n",
    "    <td>Не использовать</td>\n",
    "  </tr>\n",
    "  <tr>\n",
    "    <td>EfficientNetV2L</td>\n",
    "    <td>отличный результат на ImageNet</td>\n",
    "    <td>0.8703</td>\n",
    "    <td>Возможно, протестировать</td>\n",
    "  </tr>\n",
    "  <tr>\n",
    "    <td>ResNet152V2</td>\n",
    "    <td>легкая, с хорошим результатом</td>\n",
    "    <td>0.1267</td>\n",
    "    <td>Не использовать</td>\n",
    "  </tr>\n",
    "</table>"
   ]
  },
  {
   "cell_type": "markdown",
   "metadata": {
    "id": "Cv-QxlbeQNwN"
   },
   "source": [
    "Лучшая модель для задачи из протестированных является EfficientNetB7 - т.к. имеет наибольший val_accuracy"
   ]
  },
  {
   "cell_type": "markdown",
   "metadata": {
    "id": "oEeOzR0ZMXyB"
   },
   "source": [
    "### Протестируем модель с dropout"
   ]
  },
  {
   "cell_type": "code",
   "execution_count": null,
   "metadata": {
    "colab": {
     "base_uri": "https://localhost:8080/"
    },
    "id": "wef2MR2jMXIC",
    "outputId": "cf7c4088-3218-48cf-d7da-dd83a67f36b7"
   },
   "outputs": [],
   "source": [
    "# строим модель\n",
    "model = Sequential([\n",
    "  EfficientNetB7(weights='imagenet', input_shape=(*IMG_SIZE_base, IMG_CHANNELS), include_top=False), #предобученная нейросеть из модуля keras.applications\n",
    "  # GlobalMaxPool2D - на выходе отдает один слой с максимальными значениями\n",
    "  GlobalAveragePooling2D(),\n",
    "  # игнорируем 20% слоев\n",
    "  Dropout(0.20),\n",
    "  Dense(10)\n",
    "])\n",
    "\n",
    "# настройка модели для обучения\n",
    "model.compile(\n",
    "    # выбрать функцию потерь - категориальная кросс-энтропия (если класса было бы 2, то бинарная)\n",
    "    # определяет на сколько хорошо модель предсказывает Y\n",
    "    loss=CategoricalCrossentropy(from_logits=True),\n",
    "    # Оптимизатор - фунцкия для ускорения и улучшения обучения, ускорение поиска глобального минимума функции\n",
    "    optimizer=Adam(lr=LR),\n",
    "    # метрика - accuracy - как часто прогноз совпадает с меткой\n",
    "    metrics='accuracy'\n",
    ")\n",
    "\n",
    "# обучаем модель\n",
    "model.fit(train_generator, validation_data=val_generator, epochs=3)"
   ]
  },
  {
   "cell_type": "markdown",
   "metadata": {
    "id": "efnvHVVpP0W0"
   },
   "source": [
    "Dropout не улучшает результат - не использую"
   ]
  },
  {
   "cell_type": "markdown",
   "metadata": {
    "id": "By6WaZHfOzZG"
   },
   "source": [
    "## Протестируем использование дополнительных данных"
   ]
  },
  {
   "cell_type": "markdown",
   "metadata": {
    "id": "-t5GvHcvQ27b"
   },
   "source": [
    "Сформирую датасет, выгрузив из Яндекс Картинок наиболее релевантные изображения по запросу модели авто, использую Image Parser\n",
    "\n",
    "На каждый класс прибаляется премерно 1000 изображений"
   ]
  },
  {
   "cell_type": "markdown",
   "metadata": {
    "id": "KJbvrZ_SPne2"
   },
   "source": [
    "### Cоздадим датасет, объединив имеющиеся данные с новыми"
   ]
  },
  {
   "cell_type": "code",
   "execution_count": null,
   "metadata": {},
   "outputs": [],
   "source": [
    "train_big_path = add_data(path_rep, concat_rep_name='big_data', path_new_data='add_train',\n",
    "                          name_new_data='add_train', path_base_data='data/temp/train')"
   ]
  },
  {
   "cell_type": "code",
   "execution_count": null,
   "metadata": {},
   "outputs": [],
   "source": [
    "DataInfo(class_names=class_names, path=train_big_path).class_distribution()"
   ]
  },
  {
   "cell_type": "markdown",
   "metadata": {
    "id": "OZwJdzQyPy6P"
   },
   "source": [
    "### Аугментация расширенного датасета"
   ]
  },
  {
   "cell_type": "code",
   "execution_count": null,
   "metadata": {},
   "outputs": [],
   "source": [
    "# сгенерируем тренировочные данные с применением аугментации\n",
    "train_generator = DataGenerator(apply_aug=True, val_split=VAL_SPLIT, path=train_big_path, img_size=IMG_SIZE_base,\n",
    "                  bath_size=BATCH_SIZE, random_seed=RANDOM_SEED).train_data_generator(subset='training')"
   ]
  },
  {
   "cell_type": "code",
   "execution_count": null,
   "metadata": {},
   "outputs": [],
   "source": [
    "# сгенерируем валидационные данные\n",
    "val_generator = DataGenerator(apply_aug=False, val_split=VAL_SPLIT, path=train_big_path, img_size=IMG_SIZE_base,\n",
    "                bath_size=BATCH_SIZE, random_seed=RANDOM_SEED).train_data_generator(subset='validation')"
   ]
  },
  {
   "cell_type": "markdown",
   "metadata": {
    "id": "NmYJbVmQQGCe"
   },
   "source": [
    "### Обучаем на лучшей модели"
   ]
  },
  {
   "cell_type": "code",
   "execution_count": null,
   "metadata": {
    "colab": {
     "base_uri": "https://localhost:8080/"
    },
    "id": "iRyMWfF8P2df",
    "outputId": "12a16976-9ffe-4582-a8f7-6ff648f501ea"
   },
   "outputs": [],
   "source": [
    "# строим модель\n",
    "model = Sequential([\n",
    "  EfficientNetB7(weights='imagenet', input_shape=(*IMG_SIZE_base, IMG_CHANNELS), include_top=False), #предобученная нейросеть из модуля keras.applications\n",
    "  # GlobalMaxPool2D - на выходе отдает один слой с максимальными значениями\n",
    "  GlobalAveragePooling2D(),\n",
    "  Dense(10)\n",
    "])\n",
    "\n",
    "# настройка модели для обучения\n",
    "model.compile(\n",
    "    # выбрать функцию потерь - категориальная кросс-энтропия (если класса было бы 2, то бинарная)\n",
    "    # определяет на сколько хорошо модель предсказывает Y\n",
    "    loss=CategoricalCrossentropy(from_logits=True),\n",
    "    # Оптимизатор - фунцкия для ускорения и улучшения обучения, ускорение поиска глобального минимума функции\n",
    "    optimizer=Adam(lr=LR),\n",
    "    # метрика - accuracy - как часто прогноз совпадает с меткой\n",
    "    metrics='accuracy'\n",
    ")\n",
    "\n",
    "# обучаем модель\n",
    "model.fit(train_generator, validation_data=val_generator, epochs=3)"
   ]
  },
  {
   "cell_type": "markdown",
   "metadata": {
    "id": "_vKXy8cljw4b"
   },
   "source": [
    "val_accuracy: 0.8965\n",
    "\n",
    "**Результат ухудшился, значит, для всего 10 классов датасет имеет достаточно изображений**\n",
    "\n",
    "**Не используем далее новые данные**"
   ]
  },
  {
   "cell_type": "markdown",
   "metadata": {
    "id": "c1s4dFoPOUk9"
   },
   "source": [
    "## Обучим нейросеть - step 1"
   ]
  },
  {
   "cell_type": "markdown",
   "metadata": {
    "id": "bxzdA3egOgNF"
   },
   "source": [
    "### Аугментация"
   ]
  },
  {
   "cell_type": "code",
   "execution_count": null,
   "metadata": {},
   "outputs": [],
   "source": [
    "# сгенерируем тренировочные данные с применением аугментации\n",
    "train_generator = DataGenerator(apply_aug=True, val_split=VAL_SPLIT, path=train_path, img_size=IMG_SIZE_max,\n",
    "                  bath_size=BATCH_SIZE, random_seed=RANDOM_SEED).train_data_generator(subset='training')"
   ]
  },
  {
   "cell_type": "code",
   "execution_count": null,
   "metadata": {},
   "outputs": [],
   "source": [
    "# сгенерируем валидационные данные\n",
    "val_generator = DataGenerator(apply_aug=False, val_split=VAL_SPLIT, path=train_path, img_size=IMG_SIZE_max,\n",
    "                bath_size=BATCH_SIZE, random_seed=RANDOM_SEED).train_data_generator(subset='validation')"
   ]
  },
  {
   "cell_type": "markdown",
   "metadata": {
    "id": "obmWLcflfRep"
   },
   "source": [
    "### Обучим модель"
   ]
  },
  {
   "cell_type": "markdown",
   "metadata": {
    "id": "3rltDiP1SMYz"
   },
   "source": [
    "Разморозим слои предобученной модели"
   ]
  },
  {
   "cell_type": "code",
   "execution_count": null,
   "metadata": {
    "colab": {
     "base_uri": "https://localhost:8080/"
    },
    "id": "Jb07vkAzhE86",
    "outputId": "d8fb69a4-8a6c-4d8b-af57-41169f7078b1"
   },
   "outputs": [],
   "source": [
    "# Размороженная базовая модель\n",
    "base_model = EfficientNetB7(weights='imagenet', input_shape=(*IMG_SIZE_max, IMG_CHANNELS), include_top=False)\n",
    "base_model.trainable = True"
   ]
  },
  {
   "cell_type": "code",
   "execution_count": null,
   "metadata": {
    "id": "SYCvH2q4gxD7"
   },
   "outputs": [],
   "source": [
    "# строим модель\n",
    "model = Sequential([\n",
    "  base_model,\n",
    "  # GlobalMaxPool2D - на выходе отдает один слой с максимальными значениями\n",
    "  GlobalAveragePooling2D(),\n",
    "  Dense(10, activation='softmax')\n",
    "])"
   ]
  },
  {
   "cell_type": "code",
   "execution_count": null,
   "metadata": {
    "colab": {
     "base_uri": "https://localhost:8080/"
    },
    "id": "xJRvfJv5gxFz",
    "outputId": "1968f18b-fa6d-4356-ffd0-ca34a70cbe99"
   },
   "outputs": [],
   "source": [
    "model.summary()"
   ]
  },
  {
   "cell_type": "code",
   "execution_count": null,
   "metadata": {
    "id": "eWQdp9FHgxJs"
   },
   "outputs": [],
   "source": [
    "# плавно уменьшающийся lr\n",
    "lr = ExponentialDecay(initial_learning_rate=1e-3, decay_steps=1000, decay_rate=0.9)\n",
    "\n",
    "# настройка модели для обучения\n",
    "model.compile(\n",
    "    # выбрать функцию потерь - категориальная кросс-энтропия (если класса было бы 2, то бинарная)\n",
    "    # определяет на сколько хорошо модель предсказывает Y\n",
    "    loss=\"categorical_crossentropy\",\n",
    "    # loss='sparse_categorical_crossentropy',\n",
    "    # Оптимизатор - фунцкия для ускорения и улучшения обучения, ускорение поиска глобального минимума функции\n",
    "    optimizer=Adam(lr),\n",
    "    # метрика - accuracy - как часто прогноз совпадает с меткой\n",
    "    metrics='accuracy'\n",
    ")"
   ]
  },
  {
   "cell_type": "code",
   "execution_count": null,
   "metadata": {
    "id": "R0FwQ50SgxH5"
   },
   "outputs": [],
   "source": [
    "# если улучшился результат, то сохраним модель, чтобы потом загрузить самую успешную - это обезопасит модель от переобучения и деградации\n",
    "checkpoint = ModelCheckpoint('models/best_model_1.hdf5' , monitor = ['val_accuracy'] , verbose = 1  , mode = 'max')\n",
    "\n",
    "# Останавливаем обучение, если модель не улучшает результат более 4-х итераций (эпох)\n",
    "earlystop = EarlyStopping(monitor='val_accuracy', patience=4, restore_best_weights=True)\n",
    "callbacks_list = [checkpoint, earlystop]"
   ]
  },
  {
   "cell_type": "code",
   "execution_count": null,
   "metadata": {
    "colab": {
     "base_uri": "https://localhost:8080/",
     "height": 1000
    },
    "id": "50Xc32Z7kIC6",
    "outputId": "1dbcee79-e36b-4c78-acfb-0517c5447e32"
   },
   "outputs": [],
   "source": [
    "# Обучаем\n",
    "history = model.fit_generator(\n",
    "        train_generator,\n",
    "        steps_per_epoch = train_generator.samples//train_generator.batch_size,\n",
    "        validation_data = val_generator, \n",
    "        validation_steps = val_generator.samples//val_generator.batch_size,\n",
    "        epochs = EPOCHS_max,\n",
    "        callbacks = callbacks_list\n",
    "        )"
   ]
  },
  {
   "cell_type": "markdown",
   "metadata": {
    "id": "wqLtn-VCSUkM"
   },
   "source": [
    "Лучший результат val_accuracy: 0.9631"
   ]
  },
  {
   "cell_type": "markdown",
   "metadata": {
    "id": "t9NaLEKSnmB0"
   },
   "source": [
    "## Обучим нейросеть - step 2"
   ]
  },
  {
   "cell_type": "markdown",
   "metadata": {
    "id": "l2w7vrv9TTyJ"
   },
   "source": [
    "Попробуем увеличить размер изображений и дообучить модель на лучших весах"
   ]
  },
  {
   "cell_type": "markdown",
   "metadata": {
    "id": "mliBEnWATdvI"
   },
   "source": [
    "### Аугментация"
   ]
  },
  {
   "cell_type": "code",
   "execution_count": null,
   "metadata": {},
   "outputs": [],
   "source": [
    "# сгенерируем тренировочные данные с применением аугментации\n",
    "train_generator = DataGenerator(apply_aug=True, val_split=VAL_SPLIT, path=train_path, img_size=IMG_SIZE_last,\n",
    "                  bath_size=BATCH_SIZE_last, random_seed=RANDOM_SEED).train_data_generator(subset='training')"
   ]
  },
  {
   "cell_type": "code",
   "execution_count": null,
   "metadata": {},
   "outputs": [],
   "source": [
    "# сгенерируем валидационные данные\n",
    "val_generator = DataGenerator(apply_aug=False, val_split=VAL_SPLIT, path=train_path, img_size=IMG_SIZE_last,\n",
    "                bath_size=BATCH_SIZE_last, random_seed=RANDOM_SEED).train_data_generator(subset='validation')"
   ]
  },
  {
   "cell_type": "markdown",
   "metadata": {
    "id": "6hazi27dTqc3"
   },
   "source": [
    "### Настройка модели"
   ]
  },
  {
   "cell_type": "code",
   "execution_count": null,
   "metadata": {
    "colab": {
     "base_uri": "https://localhost:8080/"
    },
    "id": "8jNpd6Lfny38",
    "outputId": "a1aaf9fd-a37b-478b-fa9c-7cf1db9e51d4"
   },
   "outputs": [],
   "source": [
    "# Размороженная базовая модель\n",
    "base_model = EfficientNetB7(weights='imagenet', input_shape=(*IMG_SIZE_last, IMG_CHANNELS), include_top=False)\n",
    "base_model.trainable = True\n",
    "\n",
    "# строим модель\n",
    "model = Sequential([\n",
    "  base_model,\n",
    "  # GlobalMaxPool2D - на выходе отдает один слой с максимальными значениями\n",
    "  GlobalAveragePooling2D(),\n",
    "  Dense(10, activation='softmax')\n",
    "])"
   ]
  },
  {
   "cell_type": "code",
   "execution_count": null,
   "metadata": {
    "id": "7mrCo5qany-M"
   },
   "outputs": [],
   "source": [
    "# плавно уменьшающийся lr, ставлю малый шаг изначально, чтобы не сбить веса\n",
    "# lr = ExponentialDecay(initial_learning_rate=1e-4, decay_steps=1000, decay_rate=0.9)\n",
    "# Уменьшу шаг, чтобы не вылететь из экстремума, т.к. уже достигли очень высокого результата\n",
    "lr = ExponentialDecay(initial_learning_rate=1e-6, decay_steps=1000, decay_rate=0.9)\n",
    "\n",
    "# настройка модели для обучения\n",
    "model.compile(\n",
    "    # выбрать функцию потерь - категориальная кросс-энтропия (если класса было бы 2, то бинарная)\n",
    "    # определяет на сколько хорошо модель предсказывает Y\n",
    "    loss=\"categorical_crossentropy\",\n",
    "    # loss='sparse_categorical_crossentropy',\n",
    "    # Оптимизатор - фунцкия для ускорения и улучшения обучения, ускорение поиска глобального минимума функции\n",
    "    optimizer=Adam(lr),\n",
    "    # метрика - accuracy - как часто прогноз совпадает с меткой\n",
    "    metrics='accuracy'\n",
    ")\n",
    "\n",
    "# загрузим веса с лучшей модели и продолжим дообучение\n",
    "model.load_weights('models/best_model_1.hdf5')"
   ]
  },
  {
   "cell_type": "code",
   "execution_count": null,
   "metadata": {
    "id": "wOfQ6pSYpRIw"
   },
   "outputs": [],
   "source": [
    "# если улучшился результат, то сохраним модель, чтобы потом загрузить самую успешную - это обезопасит модель от переобучения и деградации\n",
    "checkpoint = ModelCheckpoint('models/best_model_2.hdf5' , monitor = ['val_accuracy'] , verbose = 1  , mode = 'max')\n",
    "\n",
    "# Останавливаем обучение, если модель не улучшает результат более 5-х итераций (эпох)\n",
    "earlystop = EarlyStopping(monitor='val_accuracy', patience=5, restore_best_weights=True)\n",
    "callbacks_list = [checkpoint, earlystop]"
   ]
  },
  {
   "cell_type": "code",
   "execution_count": null,
   "metadata": {
    "colab": {
     "base_uri": "https://localhost:8080/"
    },
    "id": "IN059OFBpXpJ",
    "outputId": "c56db39c-36b4-443f-d910-17fe2646652a"
   },
   "outputs": [],
   "source": [
    "# Обучаем\n",
    "history = model.fit_generator(\n",
    "        train_generator,\n",
    "        steps_per_epoch = train_generator.samples//train_generator.batch_size,\n",
    "        validation_data = val_generator, \n",
    "        validation_steps = val_generator.samples//val_generator.batch_size,\n",
    "        epochs = EPOCHS_max,\n",
    "        callbacks = callbacks_list\n",
    "        )"
   ]
  },
  {
   "cell_type": "markdown",
   "metadata": {
    "id": "MBtUVZu5VZSS"
   },
   "source": [
    "Лучший результат val_accuracy: 0.9734"
   ]
  },
  {
   "cell_type": "markdown",
   "metadata": {
    "id": "-yd5eVHAVhhY"
   },
   "source": [
    "## Сделаем предсказание для соревнования"
   ]
  },
  {
   "cell_type": "markdown",
   "metadata": {
    "id": "knrhMqQLr6aq"
   },
   "source": [
    "### Предскажем классы для sub"
   ]
  },
  {
   "cell_type": "code",
   "execution_count": null,
   "metadata": {},
   "outputs": [],
   "source": [
    "sub_generator = DataGenerator(apply_aug=False, path=sub_path, img_size=IMG_SIZE_last,\n",
    "                  bath_size=BATCH_SIZE).sub_data_generator(sample_submission_path=sample_submission_path)"
   ]
  },
  {
   "cell_type": "code",
   "execution_count": null,
   "metadata": {
    "colab": {
     "base_uri": "https://localhost:8080/"
    },
    "id": "dCncAWaHs9cL",
    "outputId": "784d07a5-96df-4bf3-a535-3737df63cc36"
   },
   "outputs": [],
   "source": [
    "predictions = model.predict(sub_generator, verbose=1)\n",
    "predictions = predictions.argmax(axis=1)\n",
    "\n",
    "submission = pd.DataFrame({\n",
    "    'Id': sub_generator.filenames,\n",
    "    'Category': predictions\n",
    "}, columns=['Id', 'Category'])\n",
    "submission.to_csv('subs/submission1_base.csv', index=False)"
   ]
  },
  {
   "cell_type": "markdown",
   "metadata": {
    "id": "wrZiUYO7f4H-"
   },
   "source": [
    "**Результат: 0.97093**"
   ]
  },
  {
   "cell_type": "markdown",
   "metadata": {
    "id": "EmdqSZChsTT_"
   },
   "source": [
    "### TTA для предсказания"
   ]
  },
  {
   "cell_type": "code",
   "execution_count": null,
   "metadata": {},
   "outputs": [],
   "source": [
    "sub_generator = DataGenerator(apply_aug=True, path=sub_path, img_size=IMG_SIZE_last,\n",
    "                  bath_size=BATCH_SIZE).sub_data_generator(sample_submission_path=sample_submission_path)"
   ]
  },
  {
   "cell_type": "code",
   "execution_count": null,
   "metadata": {
    "colab": {
     "base_uri": "https://localhost:8080/"
    },
    "id": "kULeR55asXrC",
    "outputId": "385b08ed-d3e0-4b6d-a46e-21b4f4ea1830"
   },
   "outputs": [],
   "source": [
    "# Сделаем предсказания 5 раз\n",
    "predictions = []\n",
    "for _ in range(5):\n",
    "  predictions.append(model.predict(sub_generator, verbose=1))\n",
    "  sub_generator.reset()\n",
    "predictions = np.array(predictions)\n",
    "predictions.shape"
   ]
  },
  {
   "cell_type": "code",
   "execution_count": null,
   "metadata": {
    "colab": {
     "base_uri": "https://localhost:8080/"
    },
    "id": "q79rVw-qsXve",
    "outputId": "25eaa405-0240-4271-e3a5-7d000e9b3558"
   },
   "outputs": [],
   "source": [
    "# усреднение по номеру попытки, а затем argmax по номеру класса\n",
    "final_predictions = predictions.mean(axis=0).argmax(axis=-1)"
   ]
  },
  {
   "cell_type": "code",
   "execution_count": null,
   "metadata": {
    "id": "SLvIuCHEsXxn"
   },
   "outputs": [],
   "source": [
    "submission = pd.DataFrame({\n",
    "    'Id': sub_generator.filenames,\n",
    "    'Category': final_predictions\n",
    "}, columns=['Id', 'Category'])\n",
    "submission.to_csv('subs/submission2_tta.csv', index=False)"
   ]
  },
  {
   "cell_type": "markdown",
   "metadata": {
    "id": "83q9mCJ9f8TT"
   },
   "source": [
    "**Результат: 0.97168**"
   ]
  }
 ],
 "metadata": {
  "colab": {
   "collapsed_sections": [
    "y0vclbecIXzT",
    "SWt2SHVk_P6I",
    "By6WaZHfOzZG"
   ],
   "provenance": []
  },
  "kernelspec": {
   "display_name": "Python 3",
   "language": "python",
   "name": "python3"
  },
  "language_info": {
   "codemirror_mode": {
    "name": "ipython",
    "version": 3
   },
   "file_extension": ".py",
   "mimetype": "text/x-python",
   "name": "python",
   "nbconvert_exporter": "python",
   "pygments_lexer": "ipython3",
   "version": "3.7.6"
  }
 },
 "nbformat": 4,
 "nbformat_minor": 1
}
